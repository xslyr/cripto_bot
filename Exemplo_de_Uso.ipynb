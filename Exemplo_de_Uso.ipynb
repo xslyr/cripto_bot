{
 "cells": [
  {
   "cell_type": "code",
   "execution_count": 1,
   "id": "5f315015-2f6d-48a4-92b7-eac0f14d377c",
   "metadata": {},
   "outputs": [],
   "source": [
    "import cripto_bot as cb"
   ]
  },
  {
   "cell_type": "code",
   "execution_count": 2,
   "id": "730da1cb-21c4-4bd4-bbdd-92c6b555c680",
   "metadata": {},
   "outputs": [],
   "source": [
    "conexao_binance = cb.Conector_Binance()\n",
    "conexao_binance.start_ticker_monitor(ticker='BTCUSDT')"
   ]
  },
  {
   "cell_type": "code",
   "execution_count": 3,
   "id": "4e9265cc-6e0c-4c0a-8695-86c61aa76ccf",
   "metadata": {},
   "outputs": [],
   "source": [
    "gerador_estatistico = cb.Gerador_Estatistico(conexao_binance)\n",
    "execucao = cb.Acionador_Estrategias( gerador_estatistico )"
   ]
  },
  {
   "cell_type": "code",
   "execution_count": null,
   "id": "752443e3-b7b9-4a2b-bd89-7cc5eb77c9ec",
   "metadata": {},
   "outputs": [
    {
     "data": {
      "text/html": [
       "<div>\n",
       "<style scoped>\n",
       "    .dataframe tbody tr th:only-of-type {\n",
       "        vertical-align: middle;\n",
       "    }\n",
       "\n",
       "    .dataframe tbody tr th {\n",
       "        vertical-align: top;\n",
       "    }\n",
       "\n",
       "    .dataframe thead th {\n",
       "        text-align: right;\n",
       "    }\n",
       "</style>\n",
       "<table border=\"1\" class=\"dataframe\">\n",
       "  <thead>\n",
       "    <tr style=\"text-align: right;\">\n",
       "      <th></th>\n",
       "      <th>0</th>\n",
       "    </tr>\n",
       "  </thead>\n",
       "  <tbody>\n",
       "    <tr>\n",
       "      <th>interval</th>\n",
       "      <td>1m</td>\n",
       "    </tr>\n",
       "    <tr>\n",
       "      <th>ticker</th>\n",
       "      <td>BTCUSDT</td>\n",
       "    </tr>\n",
       "    <tr>\n",
       "      <th>opentime</th>\n",
       "      <td>1711495560000</td>\n",
       "    </tr>\n",
       "    <tr>\n",
       "      <th>closetime</th>\n",
       "      <td>1711495619999</td>\n",
       "    </tr>\n",
       "    <tr>\n",
       "      <th>open</th>\n",
       "      <td>70133.03000000</td>\n",
       "    </tr>\n",
       "    <tr>\n",
       "      <th>close</th>\n",
       "      <td>70104.04000000</td>\n",
       "    </tr>\n",
       "    <tr>\n",
       "      <th>high</th>\n",
       "      <td>70133.03000000</td>\n",
       "    </tr>\n",
       "    <tr>\n",
       "      <th>low</th>\n",
       "      <td>70101.10000000</td>\n",
       "    </tr>\n",
       "    <tr>\n",
       "      <th>base_asset_volume</th>\n",
       "      <td>9.33230000</td>\n",
       "    </tr>\n",
       "    <tr>\n",
       "      <th>quote_asset_volume</th>\n",
       "      <td>654423.63388470</td>\n",
       "    </tr>\n",
       "    <tr>\n",
       "      <th>number_of_trades</th>\n",
       "      <td>606</td>\n",
       "    </tr>\n",
       "    <tr>\n",
       "      <th>taker_asset_volume</th>\n",
       "      <td>1.06999000</td>\n",
       "    </tr>\n",
       "    <tr>\n",
       "      <th>taker_quote_volume</th>\n",
       "      <td>75034.78422540</td>\n",
       "    </tr>\n",
       "  </tbody>\n",
       "</table>\n",
       "</div>"
      ],
      "text/plain": [
       "                                  0\n",
       "interval                         1m\n",
       "ticker                      BTCUSDT\n",
       "opentime              1711495560000\n",
       "closetime             1711495619999\n",
       "open                 70133.03000000\n",
       "close                70104.04000000\n",
       "high                 70133.03000000\n",
       "low                  70101.10000000\n",
       "base_asset_volume        9.33230000\n",
       "quote_asset_volume  654423.63388470\n",
       "number_of_trades                606\n",
       "taker_asset_volume       1.06999000\n",
       "taker_quote_volume   75034.78422540"
      ]
     },
     "metadata": {},
     "output_type": "display_data"
    }
   ],
   "source": [
    "execucao.executar_trades( )"
   ]
  },
  {
   "cell_type": "code",
   "execution_count": null,
   "id": "440513a8-595c-47b3-8777-3ccdca83df13",
   "metadata": {},
   "outputs": [],
   "source": []
  },
  {
   "cell_type": "code",
   "execution_count": null,
   "id": "fa74bf50-9cb5-474a-8db4-93ab4da85b71",
   "metadata": {},
   "outputs": [],
   "source": [
    "# as ordens e um cálculo básico de performance estão sendo salvos no banco de dados sqlite appdata.db\n",
    "\n",
    "# para entender como criar suas próprias estratégias de compra e venda, consulte a \n",
    "# classe Estrategia_Exemplo no arquivo estrategias.py\n"
   ]
  },
  {
   "cell_type": "code",
   "execution_count": null,
   "id": "6e2d4f75-ee8d-4a32-ba2f-042eea5d3632",
   "metadata": {},
   "outputs": [],
   "source": []
  }
 ],
 "metadata": {
  "kernelspec": {
   "display_name": "Python 3 (ipykernel)",
   "language": "python",
   "name": "python3"
  },
  "language_info": {
   "codemirror_mode": {
    "name": "ipython",
    "version": 3
   },
   "file_extension": ".py",
   "mimetype": "text/x-python",
   "name": "python",
   "nbconvert_exporter": "python",
   "pygments_lexer": "ipython3",
   "version": "3.10.12"
  },
  "widgets": {
   "application/vnd.jupyter.widget-state+json": {
    "state": {},
    "version_major": 2,
    "version_minor": 0
   }
  }
 },
 "nbformat": 4,
 "nbformat_minor": 5
}
